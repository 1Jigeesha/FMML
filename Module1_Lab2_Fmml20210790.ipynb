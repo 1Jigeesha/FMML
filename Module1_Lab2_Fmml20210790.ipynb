{
  "nbformat": 4,
  "nbformat_minor": 0,
  "metadata": {
    "colab": {
      "name": "Module1_Lab2_Fmml20210790.ipynb",
      "provenance": [],
      "collapsed_sections": [],
      "include_colab_link": true
    },
    "kernelspec": {
      "name": "python3",
      "display_name": "Python 3"
    },
    "language_info": {
      "name": "python"
    }
  },
  "cells": [
    {
      "cell_type": "markdown",
      "metadata": {
        "id": "view-in-github",
        "colab_type": "text"
      },
      "source": [
        "<a href=\"https://colab.research.google.com/github/1Jigeesha/FMML/blob/main/Module1_Lab2_Fmml20210790.ipynb\" target=\"_parent\"><img src=\"https://colab.research.google.com/assets/colab-badge.svg\" alt=\"Open In Colab\"/></a>"
      ]
    },
    {
      "cell_type": "markdown",
      "metadata": {
        "id": "3Eu9VZbF01eq"
      },
      "source": [
        "# Machine learning terms and metrics\n",
        "\n",
        "FMML Module 1, Lab 2<br>\n",
        " Module Coordinator: Thrupthi Ann John thrupthi.ann@research.iiit.ac.in <br>\n",
        " Release date: 11 October 2021 Monday <br>\n",
        "\n",
        " In this lab, we will show a part of the ML pipeline by extracting features, training and testing"
      ]
    },
    {
      "cell_type": "code",
      "metadata": {
        "id": "8qBvyEem0vLi"
      },
      "source": [
        "import matplotlib.pyplot as plt\n",
        "import numpy as np\n",
        "from sklearn import datasets\n",
        "# set randomseed\n",
        "rng = np.random.default_rng(seed=42)"
      ],
      "execution_count": 2,
      "outputs": []
    },
    {
      "cell_type": "markdown",
      "metadata": {
        "id": "u3t59g5s1HfC"
      },
      "source": [
        "In this lab, we will use the California Housing dataset. There are 20640 samples, each with 8 attributes like income of the block, age of the houses per district etc. The task is to predict the cost of the houses per district. \n",
        "\n",
        "Let us download and examine the dataset. "
      ]
    },
    {
      "cell_type": "code",
      "metadata": {
        "id": "8LpqjN991GGJ",
        "colab": {
          "base_uri": "https://localhost:8080/"
        },
        "outputId": "3e39b8c2-81c8-4ffe-f77b-e8d1c4c8abd6"
      },
      "source": [
        " dataset =  datasets.fetch_california_housing()\n",
        " # print(dataset.DESCR)  # uncomment this if you want to know more about this dataset\n",
        " # print(dataset.keys())  # if you want to know what else is there in this dataset\n",
        " dataset.target = dataset.target.astype(np.int) # so that we can classify\n",
        " print(dataset.data.shape)\n",
        " print(dataset.target.shape)"
      ],
      "execution_count": 3,
      "outputs": [
        {
          "output_type": "stream",
          "name": "stdout",
          "text": [
            "(20640, 8)\n",
            "(20640,)\n"
          ]
        },
        {
          "output_type": "stream",
          "name": "stderr",
          "text": [
            "/usr/local/lib/python3.7/dist-packages/ipykernel_launcher.py:4: DeprecationWarning: `np.int` is a deprecated alias for the builtin `int`. To silence this warning, use `int` by itself. Doing this will not modify any behavior and is safe. When replacing `np.int`, you may wish to use e.g. `np.int64` or `np.int32` to specify the precision. If you wish to review your current use, check the release note link for additional information.\n",
            "Deprecated in NumPy 1.20; for more details and guidance: https://numpy.org/devdocs/release/1.20.0-notes.html#deprecations\n",
            "  after removing the cwd from sys.path.\n"
          ]
        }
      ]
    },
    {
      "cell_type": "markdown",
      "metadata": {
        "id": "iNx4174W5xRg"
      },
      "source": [
        "Here is a function for calculating the 1-nearest neighbours"
      ]
    },
    {
      "cell_type": "code",
      "metadata": {
        "id": "07zpydQj1hIQ"
      },
      "source": [
        "def NN1(traindata, trainlabel, query):\n",
        "  diff  = traindata - query  # find the difference between features. Numpy automatically takes care of the size here \n",
        "  sq = diff*diff # square the differences\n",
        "  dist = sq.sum(1) # add up the squares\n",
        "  label = trainlabel[np.argmin(dist)] # our predicted label is the label of the training data which has the least distance from the query\n",
        "  return label\n",
        "\n",
        "def NN(traindata, trainlabel, testdata):\n",
        "  # we will run nearest neighbour for each sample in the test data \n",
        "  # and collect the predicted classes in an array using list comprehension\n",
        "  predlabel = np.array([NN1(traindata, trainlabel, i) for i in testdata])\n",
        "  return predlabel\n"
      ],
      "execution_count": 4,
      "outputs": []
    },
    {
      "cell_type": "markdown",
      "metadata": {
        "id": "03JktkfIGaje"
      },
      "source": [
        "We will also define a 'random classifier', which randomly allots labels to each sample"
      ]
    },
    {
      "cell_type": "code",
      "metadata": {
        "id": "fogWAtjyGhAH"
      },
      "source": [
        "def RandomClassifier(traindata, trainlabel, testdata):\n",
        "  # in reality, we don't need these arguments\n",
        "\n",
        "  classes = np.unique(trainlabel)\n",
        "  rints = rng.integers(low=0, high=len(classes), size=len(testdata))\n",
        "  predlabel = classes[rints]\n",
        "  return predlabel"
      ],
      "execution_count": 5,
      "outputs": []
    },
    {
      "cell_type": "markdown",
      "metadata": {
        "id": "1Hjf1KHs7fU5"
      },
      "source": [
        "Let us define a metric 'Accuracy' to see how good our learning algorithm is. Accuracy is the ratio of the number of correctly classified samples to the total number of samples. The higher the accuracy, the better the algorithm. "
      ]
    },
    {
      "cell_type": "code",
      "metadata": {
        "id": "ouuCqWU07bz-"
      },
      "source": [
        "def Accuracy(gtlabel, predlabel):\n",
        "  assert len(gtlabel)==len(predlabel), \"Length of the groundtruth labels and predicted labels should be the same\"\n",
        "  correct = (gtlabel==predlabel).sum() # count the number of times the groundtruth label is equal to the predicted label.\n",
        "  return correct/len(gtlabel)"
      ],
      "execution_count": 6,
      "outputs": []
    },
    {
      "cell_type": "markdown",
      "metadata": {
        "id": "4vJFwBFa9Klw"
      },
      "source": [
        "Let us make a function to split the dataset with the desired probability."
      ]
    },
    {
      "cell_type": "code",
      "metadata": {
        "id": "Ko0VzpSM2Tdi"
      },
      "source": [
        "def split(data, label, percent):\n",
        "  # generate a random number for each sample\n",
        "  rnd = rng.random(len(label))\n",
        "  split1 = rnd<percent\n",
        "  split2 = rnd>=percent\n",
        "  split1data = data[split1,:]\n",
        "  split1label = label[split1]\n",
        "  split2data = data[split2,:]\n",
        "  split2label = label[split2]\n",
        "  return split1data, split1label, split2data, split2label"
      ],
      "execution_count": 7,
      "outputs": []
    },
    {
      "cell_type": "markdown",
      "metadata": {
        "id": "AcK3LEAJ_LGC"
      },
      "source": [
        "We will reserve 20% of our dataset as the test set. We will not change this portion throughout our experiments"
      ]
    },
    {
      "cell_type": "code",
      "metadata": {
        "id": "bBZkHBLJ1iU-",
        "colab": {
          "base_uri": "https://localhost:8080/"
        },
        "outputId": "24fc5d27-12c2-4f2f-dbba-66b0f5ecd383"
      },
      "source": [
        "testdata, testlabel, alltraindata, alltrainlabel = split(dataset.data, dataset.target, 20/100)\n",
        "print('Number of test samples = ', len(testlabel))\n",
        "print('Number of other samples = ', len(alltrainlabel))\n",
        "print('Percent of test data = ', len(testlabel)*100/len(dataset.target),'%')"
      ],
      "execution_count": 8,
      "outputs": [
        {
          "output_type": "stream",
          "name": "stdout",
          "text": [
            "Number of test samples =  4144\n",
            "Number of other samples =  16496\n",
            "Percent of test data =  20.07751937984496 %\n"
          ]
        }
      ]
    },
    {
      "cell_type": "markdown",
      "metadata": {
        "id": "a6Ss0Z6IAGNV"
      },
      "source": [
        "## Experiments with splits\n",
        "\n",
        "Let us reserve some of our train data as a validation set"
      ]
    },
    {
      "cell_type": "code",
      "metadata": {
        "id": "WFew2iry_7W7"
      },
      "source": [
        "traindata, trainlabel, valdata, vallabel = split(alltraindata, alltrainlabel, 75/100)"
      ],
      "execution_count": 9,
      "outputs": []
    },
    {
      "cell_type": "markdown",
      "metadata": {
        "id": "60hiu4clFN1i"
      },
      "source": [
        "What is the accuracy of our classifiers on the train dataset?"
      ]
    },
    {
      "cell_type": "code",
      "metadata": {
        "id": "DBlZDTHUFTZx",
        "colab": {
          "base_uri": "https://localhost:8080/"
        },
        "outputId": "05d98924-fd3a-4c19-c30f-30821bdd1d73"
      },
      "source": [
        "trainpred = NN(traindata, trainlabel, traindata)\n",
        "trainAccuracy = Accuracy(trainlabel, trainpred)\n",
        "print(\"Train accuracy using nearest neighbour is \", trainAccuracy)\n",
        "\n",
        "trainpred = RandomClassifier(traindata, trainlabel, traindata)\n",
        "trainAccuracy = Accuracy(trainlabel, trainpred)\n",
        "print(\"Train accuracy using random classifier is \", trainAccuracy)"
      ],
      "execution_count": 10,
      "outputs": [
        {
          "output_type": "stream",
          "name": "stdout",
          "text": [
            "Train accuracy using nearest neighbour is  1.0\n",
            "Train accuracy using random classifier is  0.164375808538163\n"
          ]
        }
      ]
    },
    {
      "cell_type": "markdown",
      "metadata": {
        "id": "7h08-9gJDtSy"
      },
      "source": [
        "For nearest neighbour, the train accuracy is always 1. The accuracy of the random classifier is close to 1/(number of classes) which is 0.1666 in our case.\n",
        "\n",
        "Let us predict the labels for our validation set and get the accuracy"
      ]
    },
    {
      "cell_type": "code",
      "metadata": {
        "id": "4h7bXoW_2H3v",
        "colab": {
          "base_uri": "https://localhost:8080/"
        },
        "outputId": "98a51f16-a809-4ad7-cec5-ff966b6e51ab"
      },
      "source": [
        "valpred = NN(traindata, trainlabel, valdata)\n",
        "valAccuracy = Accuracy(vallabel, valpred)\n",
        "print(\"Validation accuracy using nearest neighbour is \", valAccuracy)\n",
        "\n",
        "valpred = RandomClassifier(traindata, trainlabel, valdata)\n",
        "valAccuracy = Accuracy(vallabel, valpred)\n",
        "print(\"Validation accuracy using random classifier is \", valAccuracy)"
      ],
      "execution_count": 11,
      "outputs": [
        {
          "output_type": "stream",
          "name": "stdout",
          "text": [
            "Validation accuracy using nearest neighbour is  0.34108527131782945\n",
            "Validation accuracy using random classifier is  0.1688468992248062\n"
          ]
        }
      ]
    },
    {
      "cell_type": "markdown",
      "metadata": {
        "id": "py9bLguFEjfg"
      },
      "source": [
        "Validation accuracy of nearest neighbour is considerably less than its train accuracy while the validation accuracy of random classifier is the same. However, the validation accuracy of nearest neighbour is twice that of the random classifier. \n",
        "\n",
        "Now let us try another random split and check the validation accuracy"
      ]
    },
    {
      "cell_type": "code",
      "metadata": {
        "id": "ujm3cyYzEntE",
        "colab": {
          "base_uri": "https://localhost:8080/"
        },
        "outputId": "45e91f62-f825-47fe-e607-4443ca1a73df"
      },
      "source": [
        "traindata, trainlabel, valdata, vallabel = split(alltraindata, alltrainlabel, 75/100)\n",
        "valpred = NN(traindata, trainlabel, valdata)\n",
        "valAccuracy = Accuracy(vallabel, valpred)\n",
        "print(\"Validation accuracy of nearest neighbour is \", valAccuracy)"
      ],
      "execution_count": 12,
      "outputs": [
        {
          "output_type": "stream",
          "name": "stdout",
          "text": [
            "Validation accuracy of nearest neighbour is  0.34048257372654156\n"
          ]
        }
      ]
    },
    {
      "cell_type": "markdown",
      "metadata": {
        "id": "oSOx7U83EKie"
      },
      "source": [
        "You can run the above cell multiple times to try with different random splits. \n",
        "We notice that the accuracy is different for each run, but close together. \n",
        "\n",
        "Now let us compare it with the accuracy we get on the test dataset. "
      ]
    },
    {
      "cell_type": "code",
      "metadata": {
        "id": "PNEZ5ToYBEDW",
        "colab": {
          "base_uri": "https://localhost:8080/"
        },
        "outputId": "b30b0a6d-cc8e-4e52-ebac-87741a624e93"
      },
      "source": [
        "testpred = NN(alltraindata, alltrainlabel, testdata)\n",
        "testAccuracy = Accuracy(testlabel, testpred)\n",
        "print('Test accuracy is ', testAccuracy)"
      ],
      "execution_count": 13,
      "outputs": [
        {
          "output_type": "stream",
          "name": "stdout",
          "text": [
            "Test accuracy is  0.34917953667953666\n"
          ]
        }
      ]
    },
    {
      "cell_type": "markdown",
      "metadata": {
        "id": "w3dGD531K3gH"
      },
      "source": [
        "### Try it out for yourself and answer:\n",
        "1. How is the accuracy of the validation set affected if we increase the percentage of validation set? What happens when we reduce it?\n",
        "2. How does the size of the train and validation set affect how well we can predict the accuracy on the test set using the validation set?\n",
        "3. What do you think is a good percentage to reserve for the validation set so that thest two factors are balanced? \n",
        "\n",
        "Answer for both nearest neighbour and random classifier. You can note down the values for your experiments and plot a graph using  <a href=https://matplotlib.org/stable/gallery/lines_bars_and_markers/step_demo.html#sphx-glr-gallery-lines-bars-and-markers-step-demo-py>plt.plot<href>. Check also for extreme values for splits, like 99.9% or 0.1%"
      ]
    },
    {
      "cell_type": "markdown",
      "source": [
        "**Answer-1 :** As the validation percentage increases the random classifier accuracy remains almost same where as the nearest nieghbour accuracy decreases. so when we decrease the validation percentage the accuracy increases.you can find the code regarding that below"
      ],
      "metadata": {
        "id": "WPoi_3iSot4x"
      }
    },
    {
      "cell_type": "code",
      "source": [
        "a= [10,20,30,40,50,60,70,80,90]\n",
        "axaxis=[]\n",
        "ayaxis=[]\n",
        "for ii in a:\n",
        "  traindata, trainlabel, valdata, vallabel = split(alltraindata, alltrainlabel, ii/100)\n",
        "  valpred = NN(traindata, trainlabel, valdata)\n",
        "  valAccuracy = Accuracy(vallabel, valpred)\n",
        "  print(\"Validation accuracy of nearest neighbour is when val is\", 100-ii ,\"percent \", valAccuracy)\n",
        "  ayaxis.append(valAccuracy)\n",
        "  axaxis.append(100-ii)\n",
        "print(\"\")\n",
        "for ii in a:\n",
        "  traindata, trainlabel, valdata, vallabel = split(alltraindata, alltrainlabel, ii/100)\n",
        "  valpred = RandomClassifier(traindata, trainlabel, valdata)\n",
        "  valAccuracy = Accuracy(vallabel, valpred)\n",
        "  print(\"Validation accuracy of random classifier is when val is\", 100-ii ,\"percent \", valAccuracy)"
      ],
      "metadata": {
        "colab": {
          "base_uri": "https://localhost:8080/"
        },
        "id": "-_KK9HF0vKA5",
        "outputId": "6b6e7525-120e-4e91-9d5d-457ba163b8d1"
      },
      "execution_count": 14,
      "outputs": [
        {
          "output_type": "stream",
          "name": "stdout",
          "text": [
            "Validation accuracy of nearest neighbour is when val is 90 percent  0.29523424878836835\n",
            "Validation accuracy of nearest neighbour is when val is 80 percent  0.31184339808026607\n",
            "Validation accuracy of nearest neighbour is when val is 70 percent  0.31649948114839155\n",
            "Validation accuracy of nearest neighbour is when val is 60 percent  0.33440514469453375\n",
            "Validation accuracy of nearest neighbour is when val is 50 percent  0.33366178100751326\n",
            "Validation accuracy of nearest neighbour is when val is 40 percent  0.3370083432657926\n",
            "Validation accuracy of nearest neighbour is when val is 30 percent  0.3288888888888889\n",
            "Validation accuracy of nearest neighbour is when val is 20 percent  0.33653548187170745\n",
            "Validation accuracy of nearest neighbour is when val is 10 percent  0.3457090687766281\n",
            "\n",
            "Validation accuracy of random classifier is when val is 90 percent  0.16904153784110768\n",
            "Validation accuracy of random classifier is when val is 80 percent  0.16731369414630434\n",
            "Validation accuracy of random classifier is when val is 70 percent  0.16620426564938443\n",
            "Validation accuracy of random classifier is when val is 60 percent  0.16680096696212732\n",
            "Validation accuracy of random classifier is when val is 50 percent  0.16800780297488419\n",
            "Validation accuracy of random classifier is when val is 40 percent  0.16861358745773133\n",
            "Validation accuracy of random classifier is when val is 30 percent  0.16514134634940003\n",
            "Validation accuracy of random classifier is when val is 20 percent  0.16356990557416998\n",
            "Validation accuracy of random classifier is when val is 10 percent  0.16955223880597015\n"
          ]
        }
      ]
    },
    {
      "cell_type": "markdown",
      "source": [
        "**Answer-2 :**  even thought the train data increases the accuracy remains same(that can be found from below code) where as increase in validation data result in decrease of NN accuracy(that can be found from above code)\n",
        "the test accuracy remains constant even when we alter the train percentage(you can find code regarding that below)"
      ],
      "metadata": {
        "id": "YlR8hbc3vP5_"
      }
    },
    {
      "cell_type": "code",
      "source": [
        "a= [10,20,30,40,50,60,70,80,90]\n",
        "for ii in a:\n",
        "  traindata, trainlabel, valdata, vallabel = split(alltraindata, alltrainlabel, ii/100)\n",
        "  trainpred = NN(traindata, trainlabel, traindata)\n",
        "  trainAccuracy = Accuracy(trainlabel, trainpred)\n",
        "  print(\"Train accuracy using nearest neighbour is when traindata is\" ,ii ,\"percent  \", trainAccuracy)\n",
        "  trainpred = RandomClassifier(traindata, trainlabel, traindata)\n",
        "  trainAccuracy = Accuracy(trainlabel, trainpred)\n",
        "  print(\"Train accuracy using random classifier is when traindata is\" ,ii ,\"percent  \", trainAccuracy)\n",
        "  print(\"\")"
      ],
      "metadata": {
        "colab": {
          "base_uri": "https://localhost:8080/"
        },
        "id": "I9kLjeSpvV3S",
        "outputId": "ce03ceb3-3995-4278-eac9-bf0ecb31ff30"
      },
      "execution_count": 15,
      "outputs": [
        {
          "output_type": "stream",
          "name": "stdout",
          "text": [
            "Train accuracy using nearest neighbour is when traindata is 10 percent   1.0\n",
            "Train accuracy using random classifier is when traindata is 10 percent   0.1732283464566929\n",
            "\n",
            "Train accuracy using nearest neighbour is when traindata is 20 percent   1.0\n",
            "Train accuracy using random classifier is when traindata is 20 percent   0.1632163216321632\n",
            "\n",
            "Train accuracy using nearest neighbour is when traindata is 30 percent   1.0\n",
            "Train accuracy using random classifier is when traindata is 30 percent   0.1704199634814364\n",
            "\n",
            "Train accuracy using nearest neighbour is when traindata is 40 percent   1.0\n",
            "Train accuracy using random classifier is when traindata is 40 percent   0.1719726271942874\n",
            "\n",
            "Train accuracy using nearest neighbour is when traindata is 50 percent   1.0\n",
            "Train accuracy using random classifier is when traindata is 50 percent   0.1687332847070265\n",
            "\n",
            "Train accuracy using nearest neighbour is when traindata is 60 percent   1.0\n",
            "Train accuracy using random classifier is when traindata is 60 percent   0.16827794561933535\n",
            "\n",
            "Train accuracy using nearest neighbour is when traindata is 70 percent   1.0\n",
            "Train accuracy using random classifier is when traindata is 70 percent   0.16402764412562332\n",
            "\n",
            "Train accuracy using nearest neighbour is when traindata is 80 percent   1.0\n",
            "Train accuracy using random classifier is when traindata is 80 percent   0.16923192998340122\n",
            "\n",
            "Train accuracy using nearest neighbour is when traindata is 90 percent   1.0\n",
            "Train accuracy using random classifier is when traindata is 90 percent   0.17038880667294498\n",
            "\n"
          ]
        }
      ]
    },
    {
      "cell_type": "code",
      "source": [
        "a= [10,20,30,40,50,60,70,80,90]\n",
        "for ii in a:\n",
        "  traindata, trainlabel, valdata, vallabel = split(alltraindata, alltrainlabel, ii/100)\n",
        "  valpred = NN(traindata, trainlabel, valdata)\n",
        "  valAccuracy = Accuracy(vallabel, valpred)\n",
        "  print(\"Validation accuracy of nearest neighbour is when val is\", 100-ii ,\"percent \", valAccuracy)\n",
        "  testpred = NN(alltraindata, alltrainlabel, testdata)\n",
        "  testAccuracy = Accuracy(testlabel, testpred)\n",
        "  print('Test accuracy is ', testAccuracy) \n",
        "  print(\"\")"
      ],
      "metadata": {
        "colab": {
          "base_uri": "https://localhost:8080/"
        },
        "id": "RRXv2XzfvzM6",
        "outputId": "f93e6200-359e-4048-92b4-68672fa3ae55"
      },
      "execution_count": 16,
      "outputs": [
        {
          "output_type": "stream",
          "name": "stdout",
          "text": [
            "Validation accuracy of nearest neighbour is when val is 90 percent  0.294490098342988\n",
            "Test accuracy is  0.34917953667953666\n",
            "\n",
            "Validation accuracy of nearest neighbour is when val is 80 percent  0.3043150271575136\n",
            "Test accuracy is  0.34917953667953666\n",
            "\n",
            "Validation accuracy of nearest neighbour is when val is 70 percent  0.3190443332758323\n",
            "Test accuracy is  0.34917953667953666\n",
            "\n",
            "Validation accuracy of nearest neighbour is when val is 60 percent  0.3326627099889347\n",
            "Test accuracy is  0.34917953667953666\n",
            "\n",
            "Validation accuracy of nearest neighbour is when val is 50 percent  0.3269860521528199\n",
            "Test accuracy is  0.34917953667953666\n",
            "\n",
            "Validation accuracy of nearest neighbour is when val is 40 percent  0.32735834725808904\n",
            "Test accuracy is  0.34917953667953666\n",
            "\n",
            "Validation accuracy of nearest neighbour is when val is 30 percent  0.32681845657868225\n",
            "Test accuracy is  0.34917953667953666\n",
            "\n",
            "Validation accuracy of nearest neighbour is when val is 20 percent  0.333944393522762\n",
            "Test accuracy is  0.34917953667953666\n",
            "\n",
            "Validation accuracy of nearest neighbour is when val is 10 percent  0.3574603174603175\n",
            "Test accuracy is  0.34917953667953666\n",
            "\n"
          ]
        }
      ]
    },
    {
      "cell_type": "markdown",
      "source": [
        "**Answer-3 :** since the validation accuracy is constant b/w 20-40 % its better to use 20-40% . the graph related to vadlidation can be found below"
      ],
      "metadata": {
        "id": "gjFs5FCLvwiB"
      }
    },
    {
      "cell_type": "code",
      "source": [
        "plt.plot(axaxis,ayaxis)\n",
        "plt.xlabel(\" validation percentage\")\n",
        "plt.ylabel(\"validation accuracy\")\n",
        "plt.title(\"validation graph\")"
      ],
      "metadata": {
        "colab": {
          "base_uri": "https://localhost:8080/",
          "height": 313
        },
        "id": "LFTkjApnv7Lk",
        "outputId": "c7e6c0ac-cab8-4bdb-8883-7545abf803dc"
      },
      "execution_count": 17,
      "outputs": [
        {
          "output_type": "execute_result",
          "data": {
            "text/plain": [
              "Text(0.5, 1.0, 'validation graph')"
            ]
          },
          "metadata": {},
          "execution_count": 17
        },
        {
          "output_type": "display_data",
          "data": {
            "image/png": "[encoded data removed]",
            "text/plain": [
              "<Figure size 432x288 with 1 Axes>"
            ]
          },
          "metadata": {
            "needs_background": "light"
          }
        }
      ]
    },
    {
      "cell_type": "markdown",
      "metadata": {
        "id": "PnYvkAZLQY7h"
      },
      "source": [
        "## Multiple Splits\n",
        "\n",
        "One way to get more accurate estimates for the test accuracy is by using <b>crossvalidation</b>. Here, we will try a simple version, where we do multiple train/val splits and take the average of validation accuracies as the test accuracy estimation. Here is a function for doing this. Note that this function will take a long time to execute. "
      ]
    },
    {
      "cell_type": "code",
      "metadata": {
        "id": "E4nGCUQXBTzo"
      },
      "source": [
        "# you can use this function for random classifier also\n",
        "def AverageAccuracy(alldata, alllabel, splitpercent, iterations, classifier=NN):\n",
        "  accuracy = 0\n",
        "  for ii in range(iterations):\n",
        "    traindata, trainlabel, valdata, vallabel = split(alldata, alllabel, splitpercent)\n",
        "    valpred = classifier(traindata, trainlabel, valdata)\n",
        "    accuracy += Accuracy(vallabel, valpred)\n",
        "  return accuracy/iterations # average of all accuracies"
      ],
      "execution_count": 18,
      "outputs": []
    },
    {
      "cell_type": "code",
      "metadata": {
        "id": "H3qtNar7Bbik",
        "colab": {
          "base_uri": "https://localhost:8080/"
        },
        "outputId": "60a18a07-5dc5-4b94-86ba-c1cc15c5928e"
      },
      "source": [
        "print('Average validation accuracy is ', AverageAccuracy(alltraindata, alltrainlabel, 75/100, 10, classifier=NN))\n",
        "testpred = NN(alltraindata, alltrainlabel, testdata)\n",
        "print('test accuracy is ',Accuracy(testlabel, testpred) )"
      ],
      "execution_count": 19,
      "outputs": [
        {
          "output_type": "stream",
          "name": "stdout",
          "text": [
            "Average validation accuracy is  0.3382470128397202\n",
            "test accuracy is  0.34917953667953666\n"
          ]
        }
      ]
    },
    {
      "cell_type": "markdown",
      "metadata": {
        "id": "33GIn4x5VH-d"
      },
      "source": [
        "This is a very simple way of doing cross-validation. There are many well-known algorithms for cross-validation, like k-fold cross-validation, leave-one-out etc. This will be covered in detail in a later module. For more information about cross-validation, check <a href=https://en.wikipedia.org/wiki/Cross-validation_(statistics)>Cross-validatioin (Wikipedia)</a>\n",
        "\n",
        "### Questions\n",
        "1. Does averaging the validation accuracy across multiple splits give more consistent results?\n",
        "2. Does it give more accurate estimate of test accuracy?\n",
        "3. What is the effect of the number of iterations on the estimate? Do we get a better estimate with higher iterations?\n",
        "4. Consider the results you got for the previous questions. Can we deal with a very small train dataset or validation dataset by increasing the iterations?\n"
      ]
    },
    {
      "cell_type": "markdown",
      "metadata": {
        "id": "gWw9NAfFHlQU"
      },
      "source": [
        "**Answer-1:** As we are averaging the accuracy across multiple splits we get an avg point/value to which any new test accuracy pouint/value will be close with less ammount of difference\n",
        "\n"
      ]
    },
    {
      "cell_type": "code",
      "metadata": {
        "id": "1WileBUqC404",
        "colab": {
          "base_uri": "https://localhost:8080/"
        },
        "outputId": "095b9d63-b2f8-47df-e970-aecb7e6cbc45"
      },
      "source": [
        "#code for above questions \n",
        "iterations=[ 5,10,15,20]\n",
        "byaxis=[]\n",
        "bxaxis=[]\n",
        "for ii in iterations:\n",
        "  print('Average validation accuracy for',ii,'iteartions is', AverageAccuracy(alltraindata, alltrainlabel, 75/100, ii, classifier=NN))\n",
        "  testpred = NN(alltraindata, alltrainlabel, testdata)\n",
        "  print('test accuracy for ',ii,'iterations is ',Accuracy(testlabel, testpred) )\n",
        "  byaxis.append(Accuracy(testlabel, testpred))\n",
        "  bxaxis.append(ii)"
      ],
      "execution_count": 20,
      "outputs": [
        {
          "output_type": "stream",
          "name": "stdout",
          "text": [
            "Average validation accuracy for 5 iteartions is 0.34579186264409434\n",
            "test accuracy for  5 iterations is  0.34917953667953666\n",
            "Average validation accuracy for 10 iteartions is 0.34178407974728015\n",
            "test accuracy for  10 iterations is  0.34917953667953666\n",
            "Average validation accuracy for 15 iteartions is 0.33750081062219045\n",
            "test accuracy for  15 iterations is  0.34917953667953666\n",
            "Average validation accuracy for 20 iteartions is 0.3420569674757192\n",
            "test accuracy for  20 iterations is  0.34917953667953666\n"
          ]
        }
      ]
    },
    {
      "cell_type": "code",
      "source": [
        "plt.plot(bxaxis,byaxis)\n",
        "plt.xlabel(\"NO of iterations\")\n",
        "plt.ylabel(\"avg accuracy \")\n",
        "plt.title(\"accuracies with respect to iterations\")"
      ],
      "metadata": {
        "colab": {
          "base_uri": "https://localhost:8080/",
          "height": 313
        },
        "id": "fPTWjVJlwQFM",
        "outputId": "da546133-0bd5-42d6-c0df-55863a41dd5c"
      },
      "execution_count": 21,
      "outputs": [
        {
          "output_type": "execute_result",
          "data": {
            "text/plain": [
              "Text(0.5, 1.0, 'accuracies with respect to iterations')"
            ]
          },
          "metadata": {},
          "execution_count": 21
        },
        {
          "output_type": "display_data",
          "data": {
            "image/png": "[encoded data removed]",
            "text/plain": [
              "<Figure size 432x288 with 1 Axes>"
            ]
          },
          "metadata": {
            "needs_background": "light"
          }
        }
      ]
    },
    {
      "cell_type": "markdown",
      "source": [
        "**Answer-2 :** Since the test data(20%) is completely different from the validation and training data (80(validation+training), 20(test)) .. accuracy of test data remains mostly constant even though on averaging the validation data across multiple splits\n",
        "\n",
        "**Answer-3 :** the more number of iterations the more specific the avg will be. it doesnt mean that the validation avg gets changed drastically on increasing the iterations but there will change in the right most decimal part mostly of the validation accuracy avg value or other words we can say that the avg remains almost same/constant\n",
        "\n",
        "**Answer-4 :** The question is not clear for me so thought of answering in 2 cases . case a: if the answer has to be with respect to test data then small train/validation data set may lead to decrease in accuaracy of test data even we iterate the train and validation data multiple time as we know that the more training given the best the test accuracy will be case b:considering only training data/validation data not the test data. whatever the data set may be small or big .. increasing the iteration leads to improvement of validation accuaracy ( mostly right mostt decimal part ) or simple we can say that the accuracy remains constant"
      ],
      "metadata": {
        "id": "P27C8ObOwWHr"
      }
    }
  ]
}